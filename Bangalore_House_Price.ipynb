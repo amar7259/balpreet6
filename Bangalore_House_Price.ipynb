{
  "nbformat": 4,
  "nbformat_minor": 0,
  "metadata": {
    "colab": {
      "provenance": []
    },
    "kernelspec": {
      "name": "python3",
      "display_name": "Python 3"
    },
    "language_info": {
      "name": "python"
    }
  },
  "cells": [
    {
      "cell_type": "code",
      "metadata": {
        "id": "PmA5SYaLGIqo"
      },
      "source": [
        "import pandas as pd\n",
        "import numpy as np"
      ],
      "execution_count": null,
      "outputs": []
    },
    {
      "cell_type": "code",
      "metadata": {
        "id": "6i7A28B2K2Ku"
      },
      "source": [
        "data=pd.read_csv('/content/Bengaluru_House_Data.csv')"
      ],
      "execution_count": null,
      "outputs": []
    },
    {
      "cell_type": "code",
      "metadata": {
        "id": "1SejsCJvLqpK"
      },
      "source": [
        "data.head()"
      ],
      "execution_count": null,
      "outputs": []
    },
    {
      "cell_type": "code",
      "metadata": {
        "id": "K6foK_YBLvog"
      },
      "source": [
        "data.shape"
      ],
      "execution_count": null,
      "outputs": []
    },
    {
      "cell_type": "code",
      "metadata": {
        "id": "K8SNsHZVL6CW"
      },
      "source": [
        "data.info()"
      ],
      "execution_count": null,
      "outputs": []
    },
    {
      "cell_type": "code",
      "metadata": {
        "id": "KQRDhKRKMMLW"
      },
      "source": [
        "for column in data.columns:\n",
        "  print(data[column].value_counts())\n",
        "  print(\"*\"*20)"
      ],
      "execution_count": null,
      "outputs": []
    },
    {
      "cell_type": "code",
      "metadata": {
        "id": "TSNt1WXONSjp"
      },
      "source": [
        "data.isna().sum()"
      ],
      "execution_count": null,
      "outputs": []
    },
    {
      "cell_type": "code",
      "metadata": {
        "id": "fDErY_rhOaYN"
      },
      "source": [
        "data.drop(columns=['area_type','availability','society','balcony'],inplace=True)"
      ],
      "execution_count": null,
      "outputs": []
    },
    {
      "cell_type": "code",
      "metadata": {
        "id": "hpormiULPbEc"
      },
      "source": [
        "data.describe()"
      ],
      "execution_count": null,
      "outputs": []
    },
    {
      "cell_type": "code",
      "metadata": {
        "id": "MvUadEF0Pq0W"
      },
      "source": [
        "data.info()"
      ],
      "execution_count": null,
      "outputs": []
    },
    {
      "cell_type": "code",
      "metadata": {
        "id": "YtKQN0svQTbI"
      },
      "source": [
        "data['location'].value_counts()"
      ],
      "execution_count": null,
      "outputs": []
    },
    {
      "cell_type": "code",
      "metadata": {
        "id": "i9nhjcMsQehU"
      },
      "source": [
        "data['location'] = data['location'].fillna('Sarjapur Road')"
      ],
      "execution_count": null,
      "outputs": []
    },
    {
      "cell_type": "code",
      "metadata": {
        "id": "4ZTq_BsFTWVf"
      },
      "source": [
        "data['size'].value_counts()"
      ],
      "execution_count": null,
      "outputs": []
    },
    {
      "cell_type": "code",
      "metadata": {
        "id": "qDydNtRnTdqR"
      },
      "source": [
        "data['size'] = data['size'].fillna('2 BHK')"
      ],
      "execution_count": null,
      "outputs": []
    },
    {
      "cell_type": "code",
      "metadata": {
        "id": "I14o5LgJT9ub"
      },
      "source": [
        "data['bath'] = data['bath'].fillna(data['bath'].median())"
      ],
      "execution_count": null,
      "outputs": []
    },
    {
      "cell_type": "code",
      "metadata": {
        "id": "86e9BtBJUsN4"
      },
      "source": [
        "data.info()"
      ],
      "execution_count": null,
      "outputs": []
    },
    {
      "cell_type": "code",
      "metadata": {
        "id": "fYE6xn-BUwop"
      },
      "source": [
        "data['bhk'] = data['size'].str.split().str.get(0).astype(int)"
      ],
      "execution_count": null,
      "outputs": []
    },
    {
      "cell_type": "code",
      "metadata": {
        "id": "B-SznsiSVOG1"
      },
      "source": [
        "data[data.bhk > 20]"
      ],
      "execution_count": null,
      "outputs": []
    },
    {
      "cell_type": "code",
      "metadata": {
        "id": "yyLoheGkVXoK"
      },
      "source": [
        "data['total_sqft'].unique()"
      ],
      "execution_count": null,
      "outputs": []
    },
    {
      "cell_type": "code",
      "metadata": {
        "id": "oBflP0TMVihY"
      },
      "source": [
        "def convertRange(x):\n",
        "\n",
        "  temp = x.split('-')\n",
        "  if len(temp) == 2:\n",
        "     return(float(temp[0]) + float(temp[1]))/2\n",
        "  try:\n",
        "     return float(x)\n",
        "  except:\n",
        "     return None"
      ],
      "execution_count": null,
      "outputs": []
    },
    {
      "cell_type": "code",
      "metadata": {
        "id": "tn0BKcLbXVkj"
      },
      "source": [
        "data['total_sqft'] = data['total_sqft'].apply(convertRange)"
      ],
      "execution_count": null,
      "outputs": []
    },
    {
      "cell_type": "code",
      "metadata": {
        "id": "UabpndxMX1DN"
      },
      "source": [
        "data.head()"
      ],
      "execution_count": null,
      "outputs": []
    },
    {
      "cell_type": "markdown",
      "metadata": {
        "id": "9bg6nyY6YuBS"
      },
      "source": [
        "**Price Per Square Feet**"
      ]
    },
    {
      "cell_type": "code",
      "metadata": {
        "id": "nbjo4exWZUjP"
      },
      "source": [
        "data['price_per_sqft'] = data['price'] * 100000 / data['total_sqft']"
      ],
      "execution_count": null,
      "outputs": []
    },
    {
      "cell_type": "code",
      "metadata": {
        "id": "ZPUZKygkZ22Q"
      },
      "source": [
        "data['price_per_sqft']"
      ],
      "execution_count": null,
      "outputs": []
    },
    {
      "cell_type": "code",
      "metadata": {
        "id": "2iYm_di-aAHP"
      },
      "source": [
        "data.describe()"
      ],
      "execution_count": null,
      "outputs": []
    },
    {
      "cell_type": "code",
      "metadata": {
        "id": "aHq9RuDHaEWN"
      },
      "source": [
        "data['location'].value_counts()"
      ],
      "execution_count": null,
      "outputs": []
    },
    {
      "cell_type": "code",
      "metadata": {
        "id": "Xh-uRhdgajtI"
      },
      "source": [
        "data['location'] = data['location'].apply(lambda x : x.strip())\n",
        "location_counts = data['location'].value_counts()"
      ],
      "execution_count": null,
      "outputs": []
    },
    {
      "cell_type": "code",
      "metadata": {
        "id": "Fqs3cya0bsuu"
      },
      "source": [
        "location_counts"
      ],
      "execution_count": null,
      "outputs": []
    },
    {
      "cell_type": "code",
      "metadata": {
        "id": "iaA5MaSAbBL7"
      },
      "source": [
        "location_counts_less_10 = location_counts[location_counts<=10]\n",
        "location_counts_less_10"
      ],
      "execution_count": null,
      "outputs": []
    },
    {
      "cell_type": "code",
      "metadata": {
        "id": "265n-x_zcYpU"
      },
      "source": [
        "data['location'] = data['location'].apply(lambda x: 'other' if x in location_counts_less_10 else x)"
      ],
      "execution_count": null,
      "outputs": []
    },
    {
      "cell_type": "code",
      "metadata": {
        "id": "lQI8-DqMeK59"
      },
      "source": [
        "data['location'].value_counts()"
      ],
      "execution_count": null,
      "outputs": []
    },
    {
      "cell_type": "markdown",
      "metadata": {
        "id": "TOQDY2g5d5DX"
      },
      "source": [
        "**Outlier detection and removal**"
      ]
    },
    {
      "cell_type": "code",
      "metadata": {
        "id": "HgX65OmLeFrW"
      },
      "source": [
        "data.describe()"
      ],
      "execution_count": null,
      "outputs": []
    },
    {
      "cell_type": "code",
      "metadata": {
        "id": "WyA-ORTuefM7"
      },
      "source": [
        "(data['total_sqft']/data['bhk']).describe()"
      ],
      "execution_count": null,
      "outputs": []
    },
    {
      "cell_type": "code",
      "metadata": {
        "id": "q2C0ndP5e8fb"
      },
      "source": [
        "data = data[((data['total_sqft']/data['bhk']) >= 300)]\n",
        "data.describe()"
      ],
      "execution_count": null,
      "outputs": []
    },
    {
      "cell_type": "code",
      "metadata": {
        "id": "Ykd2muswfTvx"
      },
      "source": [
        "data.shape"
      ],
      "execution_count": null,
      "outputs": []
    },
    {
      "cell_type": "code",
      "metadata": {
        "id": "pwX8j9BnfeMl"
      },
      "source": [
        "data.price_per_sqft.describe()"
      ],
      "execution_count": null,
      "outputs": []
    },
    {
      "cell_type": "code",
      "metadata": {
        "id": "b_wXq3o_foht"
      },
      "source": [
        "def remove_outliers_sqft(df):\n",
        " df_output = pd.DataFrame()\n",
        " for key,subdf in df.groupby('location'):\n",
        "    m = np.mean(subdf.price_per_sqft)\n",
        "\n",
        "    st = np.std(subdf.price_per_sqft)\n",
        "\n",
        "    gen_df = subdf[(subdf.price_per_sqft > (m-st)) & (subdf.price_per_sqft <= (m+st))]\n",
        "    df_output = pd.concat([df_output,gen_df],ignore_index=True)\n",
        " return df_output\n",
        "data = remove_outliers_sqft(data)\n",
        "data.describe()"
      ],
      "execution_count": null,
      "outputs": []
    },
    {
      "cell_type": "code",
      "metadata": {
        "id": "xxd9ALdjiG5U"
      },
      "source": [
        "def bhk_outlier_remover(df):\n",
        "  exclude_indces =np.array([])\n",
        "  for location, location_df in df.groupby('location'):\n",
        "    bhk_stats = {}\n",
        "    for bhk, bhk_df in location_df.groupby('bhk'):\n",
        "      bhk_stats[bhk] = {\n",
        "          'mean': np.mean(bhk_df.price_per_sqft),\n",
        "          'std': np.std(bhk_df.price_per_sqft),\n",
        "          'count': bhk_df.shape[0]\n",
        "       }\n",
        "    print(location, bhk_stats)\n",
        "#    for bhk, bhk_df in location_df.groupby('bhk'):\n",
        "#     stats = bhk_stats.get(bhk-1)\n",
        "#     if stats and stats['count']>5:\n",
        "#         exclude_indces = np.append(exclude_indces,bhk_df[bhk_df.price_per_sqft<(stats['mean'])].index.values)\n",
        "  return df.drop(exclude_indces,axis='index')"
      ],
      "execution_count": null,
      "outputs": []
    },
    {
      "cell_type": "code",
      "metadata": {
        "id": "Xqq8tn-zoZfV"
      },
      "source": [
        "data=bhk_outlier_remover(data)"
      ],
      "execution_count": null,
      "outputs": []
    },
    {
      "cell_type": "code",
      "metadata": {
        "colab": {
          "base_uri": "https://localhost:8080/"
        },
        "id": "XYPkYI4gpI_j",
        "outputId": "9d3c1a8b-bd7b-4440-c403-702067d57c63"
      },
      "source": [
        "data.shape"
      ],
      "execution_count": null,
      "outputs": [
        {
          "output_type": "execute_result",
          "data": {
            "text/plain": [
              "(10301, 7)"
            ]
          },
          "metadata": {},
          "execution_count": 54
        }
      ]
    },
    {
      "cell_type": "code",
      "metadata": {
        "id": "2XgJZmRKpq_g"
      },
      "source": [
        "data"
      ],
      "execution_count": null,
      "outputs": []
    },
    {
      "cell_type": "code",
      "metadata": {
        "id": "smRoi96Fp4YN"
      },
      "source": [
        "data.drop(columns=['size','price_per_sqft'],inplace=True)"
      ],
      "execution_count": null,
      "outputs": []
    },
    {
      "cell_type": "markdown",
      "metadata": {
        "id": "knTp1qiyqkhd"
      },
      "source": [
        "**Cleaned Data**"
      ]
    },
    {
      "cell_type": "code",
      "metadata": {
        "colab": {
          "base_uri": "https://localhost:8080/",
          "height": 206
        },
        "id": "W-YixeGPqoWw",
        "outputId": "e272083b-da18-42fd-fe65-625bb1f6efd9"
      },
      "source": [
        "data.head()"
      ],
      "execution_count": null,
      "outputs": [
        {
          "output_type": "execute_result",
          "data": {
            "text/html": [
              "<div>\n",
              "<style scoped>\n",
              "    .dataframe tbody tr th:only-of-type {\n",
              "        vertical-align: middle;\n",
              "    }\n",
              "\n",
              "    .dataframe tbody tr th {\n",
              "        vertical-align: top;\n",
              "    }\n",
              "\n",
              "    .dataframe thead th {\n",
              "        text-align: right;\n",
              "    }\n",
              "</style>\n",
              "<table border=\"1\" class=\"dataframe\">\n",
              "  <thead>\n",
              "    <tr style=\"text-align: right;\">\n",
              "      <th></th>\n",
              "      <th>location</th>\n",
              "      <th>total_sqft</th>\n",
              "      <th>bath</th>\n",
              "      <th>price</th>\n",
              "      <th>bhk</th>\n",
              "    </tr>\n",
              "  </thead>\n",
              "  <tbody>\n",
              "    <tr>\n",
              "      <th>0</th>\n",
              "      <td>1st Block Jayanagar</td>\n",
              "      <td>2850.0</td>\n",
              "      <td>4.0</td>\n",
              "      <td>428.0</td>\n",
              "      <td>4</td>\n",
              "    </tr>\n",
              "    <tr>\n",
              "      <th>1</th>\n",
              "      <td>1st Block Jayanagar</td>\n",
              "      <td>1630.0</td>\n",
              "      <td>3.0</td>\n",
              "      <td>194.0</td>\n",
              "      <td>3</td>\n",
              "    </tr>\n",
              "    <tr>\n",
              "      <th>2</th>\n",
              "      <td>1st Block Jayanagar</td>\n",
              "      <td>1875.0</td>\n",
              "      <td>2.0</td>\n",
              "      <td>235.0</td>\n",
              "      <td>3</td>\n",
              "    </tr>\n",
              "    <tr>\n",
              "      <th>3</th>\n",
              "      <td>1st Block Jayanagar</td>\n",
              "      <td>1200.0</td>\n",
              "      <td>2.0</td>\n",
              "      <td>130.0</td>\n",
              "      <td>3</td>\n",
              "    </tr>\n",
              "    <tr>\n",
              "      <th>4</th>\n",
              "      <td>1st Block Jayanagar</td>\n",
              "      <td>1235.0</td>\n",
              "      <td>2.0</td>\n",
              "      <td>148.0</td>\n",
              "      <td>2</td>\n",
              "    </tr>\n",
              "  </tbody>\n",
              "</table>\n",
              "</div>"
            ],
            "text/plain": [
              "              location  total_sqft  bath  price  bhk\n",
              "0  1st Block Jayanagar      2850.0   4.0  428.0    4\n",
              "1  1st Block Jayanagar      1630.0   3.0  194.0    3\n",
              "2  1st Block Jayanagar      1875.0   2.0  235.0    3\n",
              "3  1st Block Jayanagar      1200.0   2.0  130.0    3\n",
              "4  1st Block Jayanagar      1235.0   2.0  148.0    2"
            ]
          },
          "metadata": {},
          "execution_count": 57
        }
      ]
    },
    {
      "cell_type": "code",
      "metadata": {
        "id": "l7_tDzM7quTH"
      },
      "source": [
        "data.to_csv(\"Cleaned_data.csv\")"
      ],
      "execution_count": null,
      "outputs": []
    },
    {
      "cell_type": "code",
      "metadata": {
        "id": "qAqQjiWJrlwa"
      },
      "source": [
        "X=data.drop(columns=['price'])\n",
        "y=data['price']"
      ],
      "execution_count": null,
      "outputs": []
    },
    {
      "cell_type": "code",
      "metadata": {
        "id": "8V_wVMCXr09T"
      },
      "source": [
        "from sklearn.model_selection import train_test_split\n",
        "from sklearn.linear_model import LinearRegression,Lasso,Ridge\n",
        "from sklearn.preprocessing import OneHotEncoder, StandardScaler\n",
        "from sklearn.compose import make_column_transformer\n",
        "from sklearn.pipeline import make_pipeline\n",
        "from sklearn.metrics import r2_score"
      ],
      "execution_count": null,
      "outputs": []
    },
    {
      "cell_type": "code",
      "metadata": {
        "id": "5cjnEo-0ccQ8"
      },
      "source": [
        "X_train,X_test,y_train,y_test = train_test_split(X,y, test_size=0.2, random_state=0)"
      ],
      "execution_count": null,
      "outputs": []
    },
    {
      "cell_type": "code",
      "metadata": {
        "colab": {
          "base_uri": "https://localhost:8080/"
        },
        "id": "dpBPXaY6ce7M",
        "outputId": "bd10cdab-e8b7-4f8e-e848-a03f9d5d1b67"
      },
      "source": [
        "print (X_train.shape)\n",
        "print (X_test.shape)"
      ],
      "execution_count": null,
      "outputs": [
        {
          "output_type": "stream",
          "name": "stdout",
          "text": [
            "(8240, 4)\n",
            "(2061, 4)\n"
          ]
        }
      ]
    },
    {
      "cell_type": "markdown",
      "metadata": {
        "id": "OYp1e1Djc6xF"
      },
      "source": [
        "**Applying Linear Regression**"
      ]
    },
    {
      "cell_type": "code",
      "metadata": {
        "id": "HSX94dl3dBbG"
      },
      "source": [
        "column_trans = make_column_transformer((OneHotEncoder(sparse=False), ['location']), remainder= 'passthrough')"
      ],
      "execution_count": null,
      "outputs": []
    },
    {
      "cell_type": "code",
      "metadata": {
        "id": "gXmLNR_CffYp"
      },
      "source": [
        "scaler = StandardScaler()"
      ],
      "execution_count": null,
      "outputs": []
    },
    {
      "cell_type": "code",
      "metadata": {
        "id": "Lty8USo0fylD"
      },
      "source": [
        "lr = LinearRegression(normalize=True)"
      ],
      "execution_count": null,
      "outputs": []
    },
    {
      "cell_type": "code",
      "metadata": {
        "id": "dgZyg10HgFTP"
      },
      "source": [
        "pipe = make_pipeline(column_trans,scaler, lr)"
      ],
      "execution_count": null,
      "outputs": []
    },
    {
      "cell_type": "code",
      "metadata": {
        "id": "ORppw7eCgTwg"
      },
      "source": [
        "pipe.fit(X_train,y_train)"
      ],
      "execution_count": null,
      "outputs": []
    },
    {
      "cell_type": "code",
      "metadata": {
        "id": "kycxQ5XWgbn7"
      },
      "source": [
        "y_pred_lr = pipe.predict(X_test)"
      ],
      "execution_count": null,
      "outputs": []
    },
    {
      "cell_type": "code",
      "metadata": {
        "id": "mX9HPeY3goFI",
        "colab": {
          "base_uri": "https://localhost:8080/"
        },
        "outputId": "53f41e04-6c48-42ff-d8d6-0ad4e5918691"
      },
      "source": [
        "r2_score(y_test,y_pred_lr)"
      ],
      "execution_count": null,
      "outputs": [
        {
          "output_type": "execute_result",
          "data": {
            "text/plain": [
              "0.8284353255504224"
            ]
          },
          "metadata": {},
          "execution_count": 78
        }
      ]
    },
    {
      "cell_type": "markdown",
      "metadata": {
        "id": "hZDsw5ggh_48"
      },
      "source": [
        "**Applying Lasso**"
      ]
    },
    {
      "cell_type": "code",
      "metadata": {
        "id": "-OeSwQP0iGjh"
      },
      "source": [
        "lasso = Lasso()"
      ],
      "execution_count": null,
      "outputs": []
    },
    {
      "cell_type": "code",
      "metadata": {
        "id": "DD8uc7IViMov"
      },
      "source": [
        "pipe = make_pipeline(column_trans,scaler, lasso)"
      ],
      "execution_count": null,
      "outputs": []
    },
    {
      "cell_type": "code",
      "metadata": {
        "id": "Bzn919rpiiJP"
      },
      "source": [
        "pipe.fit(X_train,y_train)"
      ],
      "execution_count": null,
      "outputs": []
    },
    {
      "cell_type": "code",
      "metadata": {
        "id": "Fp2pgo-GitKO"
      },
      "source": [
        "y_pred_lasso = pipe.predict(X_test)\n",
        "r2_score(y_test, y_pred_lasso)"
      ],
      "execution_count": null,
      "outputs": []
    },
    {
      "cell_type": "markdown",
      "metadata": {
        "id": "zh03OytxjDKb"
      },
      "source": [
        "**Applying Ridge**"
      ]
    },
    {
      "cell_type": "code",
      "metadata": {
        "id": "YnU0mXVHjH7H"
      },
      "source": [
        "ridge = Ridge()"
      ],
      "execution_count": null,
      "outputs": []
    },
    {
      "cell_type": "code",
      "metadata": {
        "id": "nllDDo0pjX8d"
      },
      "source": [
        "pipe = make_pipeline(column_trans,scaler, ridge)"
      ],
      "execution_count": null,
      "outputs": []
    },
    {
      "cell_type": "code",
      "metadata": {
        "id": "xagHpX4cjjqn"
      },
      "source": [
        "pipe.fit(X_train,y_train)"
      ],
      "execution_count": null,
      "outputs": []
    },
    {
      "cell_type": "code",
      "metadata": {
        "id": "69FxOjzZjr75"
      },
      "source": [
        "y_pred_ridge = pipe.predict(X_test)\n",
        "r2_score(y_test,y_pred_ridge)"
      ],
      "execution_count": null,
      "outputs": []
    },
    {
      "cell_type": "code",
      "metadata": {
        "id": "n7unUs0EkE9A"
      },
      "source": [
        "print(\"No regularization: \",r2_score(y_test,y_pred_lasso))\n",
        "print(\"Lasso: \",r2_score(y_test,y_pred_lasso))\n",
        "print(\"Ridge: \",r2_score(y_test,y_pred_lasso))"
      ],
      "execution_count": null,
      "outputs": []
    },
    {
      "cell_type": "code",
      "metadata": {
        "id": "sNVifSFnlTq5"
      },
      "source": [
        "import pickle"
      ],
      "execution_count": null,
      "outputs": []
    },
    {
      "cell_type": "code",
      "metadata": {
        "id": "ABv_9-hYlcCj"
      },
      "source": [
        "pickle.dump(pipe, open('RidgeModel.pkl','wb'))"
      ],
      "execution_count": null,
      "outputs": []
    }
  ]
}